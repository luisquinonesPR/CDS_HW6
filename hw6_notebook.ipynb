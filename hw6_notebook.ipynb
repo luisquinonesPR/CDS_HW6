{
 "cells": [
  {
   "cell_type": "code",
   "execution_count": 1,
   "metadata": {},
   "outputs": [],
   "source": [
    "from cds_hw6_library.features.features import Standardize, Polynomial\n",
    "from cds_hw6_library.load_split.load_split import Load_Split\n",
    "from cds_hw6_library.model.model import Model\n",
    "from cds_hw6_library.preprocessor.preprocessor import PreProcessor\n",
    "from sklearn.metrics import roc_auc_score\n",
    "\n"
   ]
  },
  {
   "cell_type": "code",
   "execution_count": 2,
   "metadata": {},
   "outputs": [
    {
     "name": "stderr",
     "output_type": "stream",
     "text": [
      "/Users/luisquinonespr/code/CDS_HW6/src/cds_hw6_library/preprocessor/preprocessor.py:11: FutureWarning: The default value of numeric_only in DataFrame.mean is deprecated. In a future version, it will default to False. In addition, specifying 'numeric_only=None' is deprecated. Select only valid columns or specify the value of numeric_only to silence this warning.\n",
      "  self.fill = self.df.fillna(self.df.mean())\n",
      "/Users/luisquinonespr/code/CDS_HW6/src/cds_hw6_library/preprocessor/preprocessor.py:11: FutureWarning: The default value of numeric_only in DataFrame.mean is deprecated. In a future version, it will default to False. In addition, specifying 'numeric_only=None' is deprecated. Select only valid columns or specify the value of numeric_only to silence this warning.\n",
      "  self.fill = self.df.fillna(self.df.mean())\n"
     ]
    },
    {
     "name": "stdout",
     "output_type": "stream",
     "text": [
      "Test Score\n"
     ]
    },
    {
     "data": {
      "text/plain": [
       "0.8207244120213562"
      ]
     },
     "execution_count": 2,
     "metadata": {},
     "output_type": "execute_result"
    }
   ],
   "source": [
    "#Loading Data\n",
    "df = Load_Split('sample_diabetes_mellitus_data.csv')\n",
    "\n",
    "subset = ['age', 'gender', 'ethnicity']\n",
    "subset_h_w = ['height', 'weight']\n",
    "\n",
    "# Cleaning Data for Train\n",
    "train = PreProcessor(df.train)\n",
    "train.clean(subset)\n",
    "train = train.clean\n",
    "\n",
    "# Cleaning Data for Test\n",
    "test = PreProcessor(df.test)\n",
    "test.clean(subset)\n",
    "test = test.clean\n",
    "\n",
    "\n",
    "\n",
    "# Fill NA with mean for Train Data\n",
    "train = PreProcessor(train)\n",
    "train.mean_na(train.df[subset_h_w])\n",
    "train = train.fill\n",
    "\n",
    "\n",
    "# Fill NA with mean for Test Data\n",
    "test = PreProcessor(test)\n",
    "test.mean_na(test.df[subset_h_w])\n",
    "test = test.fill\n",
    "\n",
    "\n",
    "# Train Data Features \n",
    "\n",
    "# We don't want to stardadize 'diabetes_mellitus' so we save it before dropping it from our Standardization\n",
    "y_train = train['diabetes_mellitus']\n",
    "y_test = test['diabetes_mellitus']\n",
    "\n",
    "train = train.drop('diabetes_mellitus', axis = 1)\n",
    "train = Standardize(train.select_dtypes(exclude= ['object']))\n",
    "train = train.transform()\n",
    "train = Polynomial(train.select_dtypes(exclude = ['object']))\n",
    "train = train.transform(2)\n",
    "test = test.drop('diabetes_mellitus', axis = 1)\n",
    "test = Standardize(test.select_dtypes(exclude =['object']))\n",
    "test = test.transform()\n",
    "test = Polynomial(test.select_dtypes(exclude =['object']))\n",
    "test = test.transform(2)\n",
    "\n",
    "# Declaring our X matrixes \n",
    "X_test = test\n",
    "X_train = train\n",
    "\n",
    "# Training the model\n",
    "model = Model(X_train, y_train)\n",
    "model.train(reg = \"l2\")\n",
    "y_pred_train = model.predict(X_train)\n",
    "prediction = model.predict(X_test)\n",
    "\n",
    "# Scoring \n",
    "print('Test Score')\n",
    "roc_auc_score(y_test, prediction)\n",
    "\n",
    "\n",
    "\n",
    "\n",
    "\n",
    "\n",
    "\n",
    "\n",
    "\n"
   ]
  }
 ],
 "metadata": {
  "kernelspec": {
   "display_name": "Python 3.9.13 ('hw6')",
   "language": "python",
   "name": "python3"
  },
  "language_info": {
   "codemirror_mode": {
    "name": "ipython",
    "version": 3
   },
   "file_extension": ".py",
   "mimetype": "text/x-python",
   "name": "python",
   "nbconvert_exporter": "python",
   "pygments_lexer": "ipython3",
   "version": "3.9.15"
  },
  "orig_nbformat": 4,
  "vscode": {
   "interpreter": {
    "hash": "984bcc8ba24d7e379872fd792e836693f01f69d2b0a4f0d4c101a88010278353"
   }
  }
 },
 "nbformat": 4,
 "nbformat_minor": 2
}
